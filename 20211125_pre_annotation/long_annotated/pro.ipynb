{
 "cells": [
  {
   "cell_type": "code",
   "execution_count": 1,
   "metadata": {},
   "outputs": [
    {
     "name": "stderr",
     "output_type": "stream",
     "text": [
      "/var/folders/7j/k3r8hd7n72v74g6tqfr9rl0m00xnff/T/ipykernel_31091/723974247.py:13: UserWarning: This pattern is interpreted as a regular expression, and has match groups. To actually get the groups, use str.extract.\n",
      "  condition1 = data['jyutping'].str.contains(common_char) | data['word'].notna()\n"
     ]
    }
   ],
   "source": [
    "# Release\n",
    "import pandas as pd\n",
    "import opencc\n",
    "converter = opencc.OpenCC('hk2t.json')\n",
    "\n",
    "data = pd.read_csv('./remain_long.csv')\n",
    "data['word'] = data['word'].apply(converter.convert)\n",
    "data.drop_duplicates(inplace=True)\n",
    "data.sort_values(by=['jyutping', 'word'], inplace=True)\n",
    "\n",
    "\n",
    "common_char = r'(佢|我|你|唔|啊|啦|喇|㗎|咗|係|喺|嘅|嘢|乜|咁|冇|噉|咩|啲|諗|仲)'\n",
    "condition1 = data['jyutping'].str.contains(common_char) | data['word'].notna()\n",
    "phrase = data[condition1 ]\n",
    "remain = data[~condition1 ]\n",
    "phrase.to_csv('./release_phrase.csv', index=False)"
   ]
  },
  {
   "cell_type": "code",
   "execution_count": null,
   "metadata": {},
   "outputs": [],
   "source": []
  }
 ],
 "metadata": {
  "interpreter": {
   "hash": "31f2aee4e71d21fbe5cf8b01ff0e069b9275f58929596ceb00d14d90e3e16cd6"
  },
  "kernelspec": {
   "display_name": "Python 3.8.9 64-bit",
   "language": "python",
   "name": "python3"
  },
  "language_info": {
   "codemirror_mode": {
    "name": "ipython",
    "version": 3
   },
   "file_extension": ".py",
   "mimetype": "text/x-python",
   "name": "python",
   "nbconvert_exporter": "python",
   "pygments_lexer": "ipython3",
   "version": "3.8.9"
  },
  "orig_nbformat": 4
 },
 "nbformat": 4,
 "nbformat_minor": 2
}
