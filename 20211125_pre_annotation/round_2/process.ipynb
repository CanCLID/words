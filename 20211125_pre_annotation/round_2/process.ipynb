{
 "cells": [
  {
   "cell_type": "markdown",
   "metadata": {},
   "source": [
    "經過第一輪嘅標註同處理之後，我哋要做下面步驟：\n",
    "\n",
    "1. 將下面兩個文件全部擺落`extracted.csv`\n",
    "  1. `output/jyutping_useful.csv`\n",
    "  1. `re_output/jyutping_useful.csv`\n",
    "1.（揾人做緊） 將 `re_output/no_jyutping_useful.csv` 加粵拼並人工檢查之後加入 `extracted.csv`\n",
    "1. 將所有 `jyutping_junk.csv` 嘅詞，人手篩選有用嘅加入總表\n",
    "\n",
    "跟住做初步整理：\n",
    "1. 揾出所有同音詞，然後人手篩選正寫法\n",
    "\n",
    "# 第二輪整理\n",
    "\n",
    "`no_jyutping_junk.csv`入面嘅詞條人工檢查一部分，確定冇漏之後全部丟棄。跟住將總表入面嘅所有詞彙進行下面嘅處理工作：\n",
    "\n",
    "1. （揾人做）整理出所有同音詞，然後討論規範寫法，刪除唔標準嘅寫法\n",
    "1. 將所有詞條轉成 OpenCC 字形\n",
    "1. 去重排序\n",
    "\n",
    "跟住就**發佈初版**，然後開始下一輪嘅人工處理：\n",
    "\n",
    "1. 將詞表分成幾個類別\n",
    "1. "
   ]
  }
 ],
 "metadata": {
  "interpreter": {
   "hash": "31f2aee4e71d21fbe5cf8b01ff0e069b9275f58929596ceb00d14d90e3e16cd6"
  },
  "kernelspec": {
   "display_name": "Python 3.8.9 64-bit",
   "language": "python",
   "name": "python3"
  },
  "language_info": {
   "codemirror_mode": {
    "name": "ipython",
    "version": 3
   },
   "file_extension": ".py",
   "mimetype": "text/x-python",
   "name": "python",
   "nbconvert_exporter": "python",
   "pygments_lexer": "ipython3",
   "version": "3.8.9"
  },
  "orig_nbformat": 4
 },
 "nbformat": 4,
 "nbformat_minor": 2
}
