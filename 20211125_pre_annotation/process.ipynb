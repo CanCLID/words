{
 "cells": [
  {
   "cell_type": "code",
   "execution_count": 1,
   "metadata": {},
   "outputs": [
    {
     "name": "stderr",
     "output_type": "stream",
     "text": [
      "/Users/laumingf/Library/Python/3.9/lib/python/site-packages/IPython/core/interactiveshell.py:3441: DtypeWarning: Columns (1) have mixed types.Specify dtype option on import or set low_memory=False.\n",
      "  exec(code_obj, self.user_global_ns, self.user_ns)\n"
     ]
    }
   ],
   "source": [
    "import pandas as pd\n",
    "\n",
    "data = pd.read_csv('source.csv')\n",
    "data.drop_duplicates(subset=['char'], keep='first', inplace=True)\n",
    "data.sort_values(by=['char'], inplace=True)"
   ]
  },
  {
   "cell_type": "markdown",
   "metadata": {},
   "source": [
    "第一步係要將唔需要嘅詞條都清走擺埋一邊，呢啲詞條包括：\n",
    "\n",
    "1. 字數大於 4 嘅詞條\n",
    "1. 唔常用嘅專名，包括：\n",
    "   1. 街道名路名\n",
    "   1. 城市村寨樓盤名\n",
    "   1. 車站名\n",
    "   1. 商鋪名\n",
    "   1. 機構組織名\n",
    "1. 幾個詞表入面已經有嘅名\n"
   ]
  },
  {
   "cell_type": "code",
   "execution_count": 2,
   "metadata": {},
   "outputs": [
    {
     "name": "stderr",
     "output_type": "stream",
     "text": [
      "/var/folders/q_/_g2nhhgj39n5s43rdg6sgwbr0000gs/T/ipykernel_86712/2202319416.py:3: UserWarning: This pattern has match groups. To actually get the groups, use str.extract.\n",
      "  proper_nouns = data[data['char'].str.contains(pattern)]\n",
      "/var/folders/q_/_g2nhhgj39n5s43rdg6sgwbr0000gs/T/ipykernel_86712/2202319416.py:4: UserWarning: This pattern has match groups. To actually get the groups, use str.extract.\n",
      "  remain = data[~data['char'].str.contains(pattern)]\n"
     ]
    }
   ],
   "source": [
    "pattern = r'(店|路|道|巷|莊|鎮|苑|市|街|村|站|綫|學|校|樓|場|館|社|屋|岭|所|行|園|城|中心|百貨|大廈|屋|房|廳|廠|院|酒吧|網吧|社區|實業|酒家|科技|餐|廊|公司)$'\n",
    "\n",
    "proper_nouns = data[data['char'].str.contains(pattern)]\n",
    "remain = data[~data['char'].str.contains(pattern)]\n",
    "\n",
    "long = remain[remain['char'].str.len() > 4]\n",
    "remain = remain[remain['char'].str.len() <= 4]"
   ]
  },
  {
   "cell_type": "markdown",
   "metadata": {},
   "source": [
    "然後要將已經有嘅嗰啲數據都清晒佢，包括冚唪唥詞表粵典詞表 CyberCan 詞表等等。"
   ]
  },
  {
   "cell_type": "code",
   "execution_count": 3,
   "metadata": {},
   "outputs": [],
   "source": [
    "hbl = pd.read_csv('hbl.csv')\n",
    "condition = remain['char'].isin(hbl['char'])\n",
    "remain.drop(remain[condition].index, inplace = True)\n",
    "\n",
    "wordshk = pd.read_csv('wordshk.csv')\n",
    "condition = remain['char'].isin(wordshk['char'])\n",
    "remain.drop(remain[condition].index, inplace = True)\n",
    "\n",
    "cybercan = pd.read_csv('CyberCan.csv')\n",
    "condition = remain['char'].isin(cybercan['Words'])\n",
    "remain.drop(remain[condition].index, inplace = True)\n"
   ]
  },
  {
   "cell_type": "code",
   "execution_count": 7,
   "metadata": {},
   "outputs": [],
   "source": [
    "remain.to_csv('remain.csv', index=False)"
   ]
  }
 ],
 "metadata": {
  "interpreter": {
   "hash": "aee8b7b246df8f9039afb4144a1f6fd8d2ca17a180786b69acc140d282b71a49"
  },
  "kernelspec": {
   "display_name": "Python 3.9.6 64-bit",
   "language": "python",
   "name": "python3"
  },
  "language_info": {
   "codemirror_mode": {
    "name": "ipython",
    "version": 3
   },
   "file_extension": ".py",
   "mimetype": "text/x-python",
   "name": "python",
   "nbconvert_exporter": "python",
   "pygments_lexer": "ipython3",
   "version": "3.9.6"
  },
  "orig_nbformat": 4
 },
 "nbformat": 4,
 "nbformat_minor": 2
}
