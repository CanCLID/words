{
 "cells": [
  {
   "cell_type": "code",
   "execution_count": 1,
   "metadata": {},
   "outputs": [],
   "source": [
    "# 將所有 csv 讀入同一個 df 入面\n",
    "import pandas as pd\n",
    "import glob\n",
    "\n",
    "all_files = glob.glob(\"./*.csv\")\n",
    "file_list = []\n",
    "for file in all_files:\n",
    "    df = pd.read_csv(file, header=None, names=[\"label\", \"word\", \"jyutping\"], index_col=False)\n",
    "    file_list.append(df)\n",
    "\n",
    "data = pd.concat(file_list, axis=0, ignore_index=True)\n",
    "\n",
    "del df, file, all_files, file_list"
   ]
  },
  {
   "cell_type": "markdown",
   "metadata": {},
   "source": [
    "讀晒所有數據之後，按照下面嘅規則提取有用嘅字詞出嚟\n",
    "1. 所有標咗 1* 嘅詞條單獨列出嚟保留\n",
    "1. 所有有粵拼嘅詞條都要保留\n",
    "1. 剩低嘅詞條入面，凡係冇 1 嘅都踢走，有 1 嘅都留低\n",
    "\n",
    "所以總共得到 3 個列表，然後分別去重排序"
   ]
  },
  {
   "cell_type": "code",
   "execution_count": 2,
   "metadata": {},
   "outputs": [
    {
     "name": "stderr",
     "output_type": "stream",
     "text": [
      "/var/folders/7j/k3r8hd7n72v74g6tqfr9rl0m00xnff/T/ipykernel_37428/3868571460.py:19: SettingWithCopyWarning: \n",
      "A value is trying to be set on a copy of a slice from a DataFrame\n",
      "\n",
      "See the caveats in the documentation: https://pandas.pydata.org/pandas-docs/stable/user_guide/indexing.html#returning-a-view-versus-a-copy\n",
      "  error_words.sort_values(by=[\"jyutping\"], inplace=True)\n"
     ]
    }
   ],
   "source": [
    "# 需要人手屋修改嘅詞彙\n",
    "error_words = data[data[\"label\"] == \"1*\"]\n",
    "\n",
    "remain = data[data[\"label\"] != \"1*\"]\n",
    "\n",
    "# 有粵拼，全部都保留嘅詞彙\n",
    "has_jyutping = remain[remain[\"jyutping\"].notna()]\n",
    "no_jyutping = remain[remain[\"jyutping\"].isna()]\n",
    "\n",
    "\n",
    "# 冇粵拼，但係人工揀出嚟有用嘅詞彙\n",
    "jyutping_useful = has_jyutping[has_jyutping[\"label\"].notna()]\n",
    "jyutping_junk = has_jyutping[has_jyutping[\"label\"].isna()]\n",
    "no_jyutping_useful = no_jyutping[no_jyutping[\"label\"].notna()]\n",
    "no_jyutping_junk = no_jyutping[no_jyutping[\"label\"].isna()]\n",
    "\n",
    "del remain, has_jyutping, no_jyutping\n",
    "\n",
    "error_words.sort_values(by=[\"jyutping\"], inplace=True)\n",
    "error_words.to_csv(\"output/error_words.csv\", index=False)\n",
    "\n",
    "jyutping_useful.sort_values(by=[\"jyutping\"], inplace=True)\n",
    "jyutping_useful.to_csv(\"output/jyutping_useful.csv\", index=False)\n",
    "\n",
    "jyutping_junk.sort_values(by=[\"jyutping\"], inplace=True)\n",
    "jyutping_junk.to_csv(\"output/jyutping_junk.csv\", index=False)\n",
    "\n",
    "no_jyutping_useful.sort_values(by=[\"jyutping\"], inplace=True)\n",
    "no_jyutping_useful.to_csv(\"output/no_jyutping_useful.csv\", index=False)\n",
    "\n",
    "no_jyutping_junk.sort_values(by=[\"jyutping\"], inplace=True)\n",
    "no_jyutping_junk.to_csv(\"output/no_jyutping_junk.csv\", index=False)"
   ]
  }
 ],
 "metadata": {
  "interpreter": {
   "hash": "31f2aee4e71d21fbe5cf8b01ff0e069b9275f58929596ceb00d14d90e3e16cd6"
  },
  "kernelspec": {
   "display_name": "Python 3.8.9 64-bit",
   "language": "python",
   "name": "python3"
  },
  "language_info": {
   "codemirror_mode": {
    "name": "ipython",
    "version": 3
   },
   "file_extension": ".py",
   "mimetype": "text/x-python",
   "name": "python",
   "nbconvert_exporter": "python",
   "pygments_lexer": "ipython3",
   "version": "3.8.9"
  },
  "orig_nbformat": 4
 },
 "nbformat": 4,
 "nbformat_minor": 2
}
