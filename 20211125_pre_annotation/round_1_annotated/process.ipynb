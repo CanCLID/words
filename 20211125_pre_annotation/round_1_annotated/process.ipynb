{
 "cells": [
  {
   "cell_type": "code",
   "execution_count": 1,
   "metadata": {},
   "outputs": [],
   "source": [
    "# 將所有 csv 讀入同一個 df 入面\n",
    "import pandas as pd\n",
    "import glob\n",
    "\n",
    "all_files = glob.glob(\"./input/*.csv\")\n",
    "file_list = []\n",
    "for file in all_files:\n",
    "    df = pd.read_csv(file, header=None, names=[\"label\", \"word\", \"jyutping\"], index_col=False)\n",
    "    file_list.append(df)\n",
    "\n",
    "data = pd.concat(file_list, axis=0, ignore_index=True).drop_duplicates()\n",
    "data.drop_duplicates(inplace=True)\n",
    "del df, file, all_files, file_list"
   ]
  },
  {
   "cell_type": "markdown",
   "metadata": {},
   "source": [
    "讀晒所有數據之後，按照下面嘅規則提取有用嘅字詞出嚟\n",
    "1. 所有標咗 1* 嘅詞條單獨列出嚟保留\n",
    "1. 所有有粵拼嘅詞條都要保留\n",
    "1. 剩低嘅詞條入面，凡係冇 1 嘅都踢走，有 1 嘅都留低\n",
    "\n",
    "所以總共得到 3 個列表，然後分別去重排序"
   ]
  },
  {
   "cell_type": "code",
   "execution_count": 2,
   "metadata": {},
   "outputs": [
    {
     "name": "stderr",
     "output_type": "stream",
     "text": [
      "C:\\Users\\liuba\\AppData\\Local\\Packages\\PythonSoftwareFoundation.Python.3.9_qbz5n2kfra8p0\\LocalCache\\local-packages\\Python39\\site-packages\\pandas\\util\\_decorators.py:311: SettingWithCopyWarning: \n",
      "A value is trying to be set on a copy of a slice from a DataFrame\n",
      "\n",
      "See the caveats in the documentation: https://pandas.pydata.org/pandas-docs/stable/user_guide/indexing.html#returning-a-view-versus-a-copy\n",
      "  return func(*args, **kwargs)\n"
     ]
    }
   ],
   "source": [
    "# 需要人手屋修改嘅詞彙\n",
    "error_words = data[data[\"label\"] == \"1*\"]\n",
    "\n",
    "remain = data[data[\"label\"] != \"1*\"]\n",
    "\n",
    "# 有粵拼，全部都保留嘅詞彙\n",
    "has_jyutping = remain[remain[\"jyutping\"].notna()]\n",
    "no_jyutping = remain[remain[\"jyutping\"].isna()]\n",
    "\n",
    "\n",
    "# 冇粵拼，但係人工揀出嚟有用嘅詞彙\n",
    "jyutping_useful = has_jyutping[has_jyutping[\"label\"].notna()]\n",
    "jyutping_junk = has_jyutping[has_jyutping[\"label\"].isna()]\n",
    "no_jyutping_useful = no_jyutping[no_jyutping[\"label\"].notna()]\n",
    "no_jyutping_junk = no_jyutping[no_jyutping[\"label\"].isna()]\n",
    "\n",
    "del remain, has_jyutping, no_jyutping\n",
    "\n",
    "error_words.sort_values(by=[\"jyutping\"], inplace=True)\n",
    "error_words.to_csv(\"output/error_words.csv\", index=False, columns=[\"word\", \"jyutping\"])\n",
    "\n",
    "jyutping_useful.sort_values(by=[\"jyutping\"], inplace=True)\n",
    "jyutping_useful.to_csv(\"output/jyutping_useful.csv\", index=False, columns=[\"word\", \"jyutping\"])\n",
    "\n",
    "jyutping_junk.sort_values(by=[\"jyutping\"], inplace=True)\n",
    "jyutping_junk.to_csv(\"output/jyutping_junk.csv\", index=False, columns=[\"word\", \"jyutping\"])\n",
    "\n",
    "no_jyutping_useful.sort_values(by=[\"jyutping\"], inplace=True)\n",
    "no_jyutping_useful.to_csv(\"output/no_jyutping_useful.csv\", index=False, columns=[\"word\", \"jyutping\"])\n",
    "\n",
    "no_jyutping_junk.sort_values(by=[\"jyutping\"], inplace=True) \n",
    "no_jyutping_junk.to_csv(\"output/no_jyutping_junk.csv\", index=False, columns=[\"word\", \"jyutping\"])"
   ]
  },
  {
   "cell_type": "code",
   "execution_count": 5,
   "metadata": {},
   "outputs": [],
   "source": [
    "# 然後要將 jyutping_junk 同埋 no_jyutping_useful 分出嚟\n",
    "reannotation = jyutping_junk.append(no_jyutping_useful)\n",
    "shuffled = reannotation.sample(frac=1)\n",
    "\n",
    "num_slices = shuffled.shape[0] // 1000 + 1\n",
    "\n",
    "for i in range(num_slices):\n",
    "    start = i * 1000\n",
    "    end = (i + 1) * 1000\n",
    "    sliced = shuffled.iloc[start:end]\n",
    "    sliced.to_csv(f'./reannotate/r1r_{i+1}.csv', index=False, columns=[\"word\", \"jyutping\"])"
   ]
  },
  {
   "cell_type": "markdown",
   "metadata": {},
   "source": [
    "### 下一步操作\n",
    "\n",
    "放到上游詞表嘅文件係 `word.csv`\n",
    "\n",
    "1. 將所有 `error_words.csv` 嘅詞表修正，加入總表  \n",
    "1. 將所有 `jyutping_useful.csv` 嘅詞加入總表\n",
    "1. 將所有 `no_jyutping_useful.csv` 嘅詞\n",
    "  1. 用代碼加入粵拼\n",
    "  1. （揾人做）檢查粵拼\n",
    "  1. 加入總表\n",
    "1. （揾人做）將所有 `jyutping_junk.csv` 嘅詞，人手篩選有用嘅加入總表\n",
    "\n",
    "`no_jyutping_junk.csv`入面嘅詞條人工檢查一部分，確定冇漏之後全部丟棄。跟住將總表入面嘅所有詞彙進行下面嘅處理工作：\n",
    "\n",
    "1. （揾人做）整理出所有同音詞，然後討論規範寫法，刪除唔標準嘅寫法\n",
    "1. 將所有詞條轉成 OpenCC 字形\n",
    "1. 去重排序\n",
    "\n",
    "跟住就**發佈初版**，然後開始下一輪嘅人工處理：\n",
    "\n",
    "1. 將詞表分成幾個類別\n",
    "1. "
   ]
  }
 ],
 "metadata": {
  "interpreter": {
   "hash": "31f2aee4e71d21fbe5cf8b01ff0e069b9275f58929596ceb00d14d90e3e16cd6"
  },
  "kernelspec": {
   "display_name": "Python 3.8.9 64-bit",
   "language": "python",
   "name": "python3"
  },
  "language_info": {
   "codemirror_mode": {
    "name": "ipython",
    "version": 3
   },
   "file_extension": ".py",
   "mimetype": "text/x-python",
   "name": "python",
   "nbconvert_exporter": "python",
   "pygments_lexer": "ipython3",
   "version": "3.9.10"
  },
  "orig_nbformat": 4
 },
 "nbformat": 4,
 "nbformat_minor": 2
}
