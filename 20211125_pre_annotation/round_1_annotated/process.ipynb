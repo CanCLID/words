{
 "cells": [
  {
   "cell_type": "code",
   "execution_count": 1,
   "metadata": {},
   "outputs": [],
   "source": [
    "# 將所有 csv 讀入同一個 df 入面\n",
    "import pandas as pd\n",
    "import glob\n",
    "\n",
    "all_files = glob.glob(\"./input/*.csv\")\n",
    "file_list = []\n",
    "for file in all_files:\n",
    "    df = pd.read_csv(file, header=None, names=[\"label\", \"word\", \"jyutping\"], index_col=False)\n",
    "    file_list.append(df)\n",
    "\n",
    "data = pd.concat(file_list, axis=0, ignore_index=True).drop_duplicates()\n",
    "data.drop_duplicates(inplace=True)\n",
    "del df, file, all_files, file_list"
   ]
  },
  {
   "cell_type": "markdown",
   "metadata": {},
   "source": [
    "### 第二次標註執漏\n",
    "\n",
    "讀晒所有數據之後，按照下面嘅規則提取有用嘅字詞出嚟\n",
    "\n",
    "1. 所有標咗 1* 嘅詞條單獨列出嚟保留成`error_words`\n",
    "1. 剩低嘅詞條入面，按照有冇粵拼同有冇標 1 分成四個文件\n",
    "\n",
    "對於呢四個文件，**`jyutping_useful`係肯定保留嘅**，`no_jyutping_junk` 係肯定要鏟晒嘅。而 `jyutping_junk` 同埋 `no_jyutping_useful`就有疑問，需要攞出嚟畀標註人再標多次。"
   ]
  },
  {
   "cell_type": "code",
   "execution_count": 2,
   "metadata": {},
   "outputs": [
    {
     "name": "stderr",
     "output_type": "stream",
     "text": [
      "C:\\Users\\liuba\\AppData\\Local\\Packages\\PythonSoftwareFoundation.Python.3.9_qbz5n2kfra8p0\\LocalCache\\local-packages\\Python39\\site-packages\\pandas\\util\\_decorators.py:311: SettingWithCopyWarning: \n",
      "A value is trying to be set on a copy of a slice from a DataFrame\n",
      "\n",
      "See the caveats in the documentation: https://pandas.pydata.org/pandas-docs/stable/user_guide/indexing.html#returning-a-view-versus-a-copy\n",
      "  return func(*args, **kwargs)\n"
     ]
    }
   ],
   "source": [
    "# 需要人手屋修改嘅詞彙\n",
    "error_words = data[data[\"label\"] == \"1*\"]\n",
    "\n",
    "remain = data[data[\"label\"] != \"1*\"]\n",
    "\n",
    "# 有粵拼，全部都保留嘅詞彙\n",
    "has_jyutping = remain[remain[\"jyutping\"].notna()]\n",
    "no_jyutping = remain[remain[\"jyutping\"].isna()]\n",
    "\n",
    "\n",
    "# 冇粵拼，但係人工揀出嚟有用嘅詞彙\n",
    "jyutping_useful = has_jyutping[has_jyutping[\"label\"].notna()]\n",
    "jyutping_junk = has_jyutping[has_jyutping[\"label\"].isna()]\n",
    "no_jyutping_useful = no_jyutping[no_jyutping[\"label\"].notna()]\n",
    "no_jyutping_junk = no_jyutping[no_jyutping[\"label\"].isna()]\n",
    "\n",
    "del remain, has_jyutping, no_jyutping\n",
    "\n",
    "error_words.sort_values(by=[\"jyutping\"], inplace=True)\n",
    "error_words.to_csv(\"output/error_words.csv\", index=False, columns=[\"word\", \"jyutping\"])\n",
    "\n",
    "jyutping_useful.sort_values(by=[\"jyutping\"], inplace=True)\n",
    "jyutping_useful.to_csv(\"output/jyutping_useful.csv\", index=False, columns=[\"word\", \"jyutping\"])\n",
    "\n",
    "jyutping_junk.sort_values(by=[\"jyutping\"], inplace=True)\n",
    "jyutping_junk.to_csv(\"output/jyutping_junk.csv\", index=False, columns=[\"word\", \"jyutping\"])\n",
    "\n",
    "no_jyutping_useful.sort_values(by=[\"jyutping\"], inplace=True)\n",
    "no_jyutping_useful.to_csv(\"output/no_jyutping_useful.csv\", index=False, columns=[\"word\", \"jyutping\"])\n",
    "\n",
    "no_jyutping_junk.sort_values(by=[\"jyutping\"], inplace=True) \n",
    "no_jyutping_junk.to_csv(\"output/no_jyutping_junk.csv\", index=False, columns=[\"word\", \"jyutping\"])"
   ]
  },
  {
   "cell_type": "markdown",
   "metadata": {},
   "source": [
    "\n",
    "分成每個文件 1000 個詞畀標註人員標\n",
    "\n"
   ]
  },
  {
   "cell_type": "code",
   "execution_count": 5,
   "metadata": {},
   "outputs": [],
   "source": [
    "# 然後要將 jyutping_junk 同埋 no_jyutping_useful 分出嚟\n",
    "reannotation = jyutping_junk.append(no_jyutping_useful)\n",
    "shuffled = reannotation.sample(frac=1)\n",
    "\n",
    "num_slices = shuffled.shape[0] // 1000 + 1\n",
    "\n",
    "for i in range(num_slices):\n",
    "    start = i * 1000\n",
    "    end = (i + 1) * 1000\n",
    "    sliced = shuffled.iloc[start:end]\n",
    "    sliced.to_csv(f'./reannotate/r1r_{i+1}.csv', index=False, columns=[\"word\", \"jyutping\"])"
   ]
  },
  {
   "cell_type": "markdown",
   "metadata": {},
   "source": [
    "因為喺今次標註入面，有粵拼嗰啲之前都係被當成垃圾嘅，冇粵拼嗰啲之前都係畀人當成有用嘅，所以今次標註入面 `jyutping_junk` 肯定可以剷走，因為兩次都畀人當成垃圾。而 `no_jyutping_useful` 肯定可以保留，因為兩次都畀人當有用。所以今次嘅`no_jyutping_useful`同埋上次嘅`jyutping_useful`兩個文件就變成咗最尾嘅輸出底。\n",
    "\n",
    "而 `jyutping_useful` 同埋 `no_jyutping_junk`就需要畀人人工檢查嘞\n",
    "\n"
   ]
  },
  {
   "cell_type": "code",
   "execution_count": 1,
   "metadata": {},
   "outputs": [
    {
     "name": "stderr",
     "output_type": "stream",
     "text": [
      "C:\\Users\\liuba\\AppData\\Local\\Packages\\PythonSoftwareFoundation.Python.3.9_qbz5n2kfra8p0\\LocalCache\\local-packages\\Python39\\site-packages\\pandas\\util\\_decorators.py:311: SettingWithCopyWarning: \n",
      "A value is trying to be set on a copy of a slice from a DataFrame\n",
      "\n",
      "See the caveats in the documentation: https://pandas.pydata.org/pandas-docs/stable/user_guide/indexing.html#returning-a-view-versus-a-copy\n",
      "  return func(*args, **kwargs)\n"
     ]
    }
   ],
   "source": [
    "# 將所有 csv 讀入同一個 df 入面\n",
    "import pandas as pd\n",
    "import glob\n",
    "\n",
    "all_files = glob.glob(\"./re_input/*.csv\")\n",
    "file_list = []\n",
    "for file in all_files:\n",
    "    df = pd.read_csv(file, header=None, names=[\"label\", \"word\", \"jyutping\"], index_col=False)\n",
    "    file_list.append(df)\n",
    "\n",
    "data = pd.concat(file_list, axis=0, ignore_index=True).drop_duplicates()\n",
    "data.drop_duplicates(inplace=True)\n",
    "del df, file, all_files, file_list\n",
    "\n",
    "# 需要人手屋修改嘅詞彙\n",
    "error_words = data[data[\"label\"] == \"1*\"]\n",
    "\n",
    "remain = data[data[\"label\"] != \"1*\"]\n",
    "\n",
    "# 有粵拼，全部都保留嘅詞彙\n",
    "has_jyutping = remain[remain[\"jyutping\"].notna()]\n",
    "no_jyutping = remain[remain[\"jyutping\"].isna()]\n",
    "\n",
    "\n",
    "# 冇粵拼，但係人工揀出嚟有用嘅詞彙\n",
    "jyutping_useful = has_jyutping[has_jyutping[\"label\"].notna()]\n",
    "jyutping_junk = has_jyutping[has_jyutping[\"label\"].isna()]\n",
    "no_jyutping_useful = no_jyutping[no_jyutping[\"label\"].notna()]\n",
    "no_jyutping_junk = no_jyutping[no_jyutping[\"label\"].isna()]\n",
    "\n",
    "del remain, has_jyutping, no_jyutping\n",
    "\n",
    "error_words.sort_values(by=[\"jyutping\"], inplace=True)\n",
    "error_words.to_csv(\"re_output/error_words.csv\", index=False, columns=[\"word\", \"jyutping\"])\n",
    "\n",
    "jyutping_useful.sort_values(by=[\"jyutping\"], inplace=True)\n",
    "jyutping_useful.to_csv(\"re_output/jyutping_useful.csv\", index=False, columns=[\"word\", \"jyutping\"])\n",
    "\n",
    "jyutping_junk.sort_values(by=[\"jyutping\"], inplace=True)\n",
    "jyutping_junk.to_csv(\"re_output/jyutping_junk.csv\", index=False, columns=[\"word\", \"jyutping\"])\n",
    "\n",
    "no_jyutping_useful.sort_values(by=[\"jyutping\"], inplace=True)\n",
    "no_jyutping_useful.to_csv(\"re_output/no_jyutping_useful.csv\", index=False, columns=[\"word\", \"jyutping\"])\n",
    "\n",
    "no_jyutping_junk.sort_values(by=[\"jyutping\"], inplace=True) \n",
    "no_jyutping_junk.to_csv(\"re_output/no_jyutping_junk.csv\", index=False, columns=[\"word\", \"jyutping\"])"
   ]
  },
  {
   "cell_type": "markdown",
   "metadata": {},
   "source": [
    "## 下一步操作\n",
    "\n",
    "而家總共有呢啲數據係確定可用嘅：\n",
    "\n",
    "1. `output/jyutping_useful.csv`\n",
    "1. `re_output/no_jyutping_useful.csv`\n",
    "1. `re_output/jyutping_useful.csv`\n",
    "\n",
    "而下面文件係需要加粵拼然後人手檢查嘅\n",
    "\n",
    "1. `re_output/no_jyutping_useful.csv`\n",
    "\n",
    "跟住下面文件係需要人手修正嘅：\n",
    "1. `output/error_words.csv`\n",
    "1. `re_output/error_words.csv`\n"
   ]
  },
  {
   "cell_type": "code",
   "execution_count": 14,
   "metadata": {},
   "outputs": [],
   "source": [
    "from ToJyutping import get_jyutping_text\n",
    "\n",
    "no_jyutping_useful = pd.read_csv(\"re_output/no_jyutping_useful.csv\")\n",
    "no_jyutping_useful[\"jyutping\"] = no_jyutping_useful[\"word\"].apply(get_jyutping_text)\n",
    "no_jyutping_useful.to_csv(\"to_check_jyutping.csv\", index=False, columns=[\"word\", \"jyutping\"])"
   ]
  }
 ],
 "metadata": {
  "interpreter": {
   "hash": "31f2aee4e71d21fbe5cf8b01ff0e069b9275f58929596ceb00d14d90e3e16cd6"
  },
  "kernelspec": {
   "display_name": "Python 3.8.9 64-bit",
   "language": "python",
   "name": "python3"
  },
  "language_info": {
   "codemirror_mode": {
    "name": "ipython",
    "version": 3
   },
   "file_extension": ".py",
   "mimetype": "text/x-python",
   "name": "python",
   "nbconvert_exporter": "python",
   "pygments_lexer": "ipython3",
   "version": "3.9.10"
  },
  "orig_nbformat": 4
 },
 "nbformat": 4,
 "nbformat_minor": 2
}
